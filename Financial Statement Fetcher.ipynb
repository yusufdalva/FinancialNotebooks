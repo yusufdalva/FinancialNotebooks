{
 "cells": [
  {
   "cell_type": "code",
   "execution_count": 1,
   "metadata": {},
   "outputs": [
    {
     "name": "stdout",
     "output_type": "stream",
     "text": [
      "Collecting pip\n",
      "  Using cached pip-20.0.2-py2.py3-none-any.whl (1.4 MB)\n",
      "Installing collected packages: pip\n",
      "  Attempting uninstall: pip\n",
      "    Found existing installation: pip 20.0.2\n",
      "    Uninstalling pip-20.0.2:\n",
      "      Successfully uninstalled pip-20.0.2\n",
      "Successfully installed pip-20.0.2\n",
      "fatal: destination path 'yahoofinancials' already exists and is not an empty directory.\n",
      "python: can't open file 'setup.py': [Errno 2] No such file or directory\n",
      "Requirement already satisfied: pandas in /opt/anaconda3/lib/python3.7/site-packages (0.25.1)\n",
      "Requirement already satisfied: numpy>=1.13.3 in /opt/anaconda3/lib/python3.7/site-packages (from pandas) (1.17.2)\n",
      "Requirement already satisfied: pytz>=2017.2 in /opt/anaconda3/lib/python3.7/site-packages (from pandas) (2019.3)\n",
      "Requirement already satisfied: python-dateutil>=2.6.1 in /opt/anaconda3/lib/python3.7/site-packages (from pandas) (2.8.0)\n",
      "Requirement already satisfied: six>=1.5 in /opt/anaconda3/lib/python3.7/site-packages (from python-dateutil>=2.6.1->pandas) (1.12.0)\n",
      "Requirement already satisfied: numpy in /opt/anaconda3/lib/python3.7/site-packages (1.17.2)\n"
     ]
    }
   ],
   "source": [
    "\"\"\"This notebook is created for fetching financial statements from Yahoo Finance. \n",
    "Rename the ticker in the last cell to change the fetched data. Notebook supports retrieving\n",
    "balance, cash flow and income statements.\"\"\"\n",
    "\n",
    "\"\"\"Developed by Yusuf Dalva\"\"\"\n",
    "\"\"\"Date: 25.02.2020\"\"\"\n",
    "\n",
    "# Setting up pip for installing packages\n",
    "# Can get the file from https://bootstrap.pypa.io/get-pip.py\n",
    "!python get-pip.py\n",
    "\n",
    "# Getting yahoofinancials package using git\n",
    "!git clone https://github.com/JECSand/yahoofinancials.git \n",
    "# If already installed will give fatal error, doesn't effect running of the notebook\n",
    "!cd yahoofinancials\n",
    "!python setup.py install\n",
    "\n",
    "# Installing pandas and numpy just in case it is not installed\n",
    "!pip install pandas\n",
    "!pip install numpy"
   ]
  },
  {
   "cell_type": "code",
   "execution_count": 2,
   "metadata": {},
   "outputs": [],
   "source": [
    "# Necessary imports\n",
    "from yahoofinancials.yahoofinancials import YahooFinancials as YF\n",
    "import pandas as pd\n",
    "import numpy as np"
   ]
  },
  {
   "cell_type": "code",
   "execution_count": 3,
   "metadata": {},
   "outputs": [],
   "source": [
    "def get_income_stmt_annual(ticker):\n",
    "    yahoo_instance = YF(ticker)\n",
    "    income_dict = yahoo_instance.get_financial_stmts(frequency = 'annual', statement_type = 'income', reformat=True)\n",
    "    dates = []\n",
    "    data = []\n",
    "    for idx in range(len(income_dict['incomeStatementHistory'][ticker])):\n",
    "        item = list(income_dict['incomeStatementHistory'][ticker][idx].items())\n",
    "        dates.append(item[0][0])\n",
    "        data.append(item[0][1])\n",
    "    table = pd.DataFrame(data, index = dates)\n",
    "    return table"
   ]
  },
  {
   "cell_type": "code",
   "execution_count": 4,
   "metadata": {},
   "outputs": [],
   "source": [
    "def get_cash_stmt_annual(ticker):\n",
    "    yahoo_instance = YF(ticker)\n",
    "    income_dict = yahoo_instance.get_financial_stmts(frequency = 'annual', statement_type = 'cash', reformat=True)\n",
    "    dates = []\n",
    "    data = []\n",
    "    for idx in range(len(income_dict['cashflowStatementHistory'][ticker])):\n",
    "        item = list(income_dict['cashflowStatementHistory'][ticker][idx].items())\n",
    "        dates.append(item[0][0])\n",
    "        data.append(item[0][1])\n",
    "    table = pd.DataFrame(data, index = dates)\n",
    "    return table"
   ]
  },
  {
   "cell_type": "code",
   "execution_count": 5,
   "metadata": {},
   "outputs": [],
   "source": [
    "def get_balance_stmt_annual(ticker):\n",
    "    yahoo_instance = YF(ticker)\n",
    "    income_dict = yahoo_instance.get_financial_stmts(frequency = 'annual', statement_type = 'balance', reformat=True)\n",
    "    dates = []\n",
    "    data = []\n",
    "    for idx in range(len(income_dict['balanceSheetHistory'][ticker])):\n",
    "        item = list(income_dict['balanceSheetHistory'][ticker][idx].items())\n",
    "        dates.append(item[0][0])\n",
    "        data.append(item[0][1])\n",
    "    table = pd.DataFrame(data, index = dates)\n",
    "    return table"
   ]
  },
  {
   "cell_type": "code",
   "execution_count": 6,
   "metadata": {},
   "outputs": [],
   "source": [
    "def main(ticker):\n",
    "    income_annual = get_income_stmt_annual(ticker)\n",
    "    cash_annual = get_cash_stmt_annual(ticker)\n",
    "    balance_annual = get_balance_stmt_annual(ticker)\n",
    "    writer = pd.ExcelWriter(ticker + '_data.xlsx', engine='xlsxwriter')\n",
    "    income_annual.to_excel(writer, sheet_name='Income')\n",
    "    cash_annual.to_excel(writer, sheet_name='Cash')\n",
    "    balance_annual.to_excel(writer, sheet_name='Balance')\n",
    "    writer.save()"
   ]
  },
  {
   "cell_type": "code",
   "execution_count": 7,
   "metadata": {},
   "outputs": [],
   "source": [
    "ticker = 'ASELS.IS'\n",
    "main(ticker)"
   ]
  }
 ],
 "metadata": {
  "kernelspec": {
   "display_name": "Python 3",
   "language": "python",
   "name": "python3"
  },
  "language_info": {
   "codemirror_mode": {
    "name": "ipython",
    "version": 3
   },
   "file_extension": ".py",
   "mimetype": "text/x-python",
   "name": "python",
   "nbconvert_exporter": "python",
   "pygments_lexer": "ipython3",
   "version": "3.7.4"
  }
 },
 "nbformat": 4,
 "nbformat_minor": 2
}
